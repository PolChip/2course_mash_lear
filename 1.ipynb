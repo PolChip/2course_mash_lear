{
  "nbformat": 4,
  "nbformat_minor": 0,
  "metadata": {
    "colab": {
      "provenance": [],
      "authorship_tag": "ABX9TyMr2UQWNtXErwz42Lrb4/8x",
      "include_colab_link": true
    },
    "kernelspec": {
      "name": "python3",
      "display_name": "Python 3"
    },
    "language_info": {
      "name": "python"
    },
    "widgets": {
      "application/vnd.jupyter.widget-state+json": {
        "1329796f9d624161b4634d469a0cf0c9": {
          "model_module": "@jupyter-widgets/controls",
          "model_name": "PasswordModel",
          "model_module_version": "1.5.0",
          "state": {
            "_dom_classes": [],
            "_model_module": "@jupyter-widgets/controls",
            "_model_module_version": "1.5.0",
            "_model_name": "PasswordModel",
            "_view_count": null,
            "_view_module": "@jupyter-widgets/controls",
            "_view_module_version": "1.5.0",
            "_view_name": "PasswordView",
            "continuous_update": true,
            "description": "Enter Key:",
            "description_tooltip": null,
            "disabled": false,
            "layout": "IPY_MODEL_ac2f08fc5c0d4173ad2a061b8de6086e",
            "placeholder": "KAGGLE_USERNAME",
            "style": "IPY_MODEL_1642c3a243024d6fbdd0aee13e996b78",
            "value": "polchip"
          }
        },
        "ac2f08fc5c0d4173ad2a061b8de6086e": {
          "model_module": "@jupyter-widgets/base",
          "model_name": "LayoutModel",
          "model_module_version": "1.2.0",
          "state": {
            "_model_module": "@jupyter-widgets/base",
            "_model_module_version": "1.2.0",
            "_model_name": "LayoutModel",
            "_view_count": null,
            "_view_module": "@jupyter-widgets/base",
            "_view_module_version": "1.2.0",
            "_view_name": "LayoutView",
            "align_content": null,
            "align_items": null,
            "align_self": null,
            "border": null,
            "bottom": null,
            "display": null,
            "flex": null,
            "flex_flow": null,
            "grid_area": null,
            "grid_auto_columns": null,
            "grid_auto_flow": null,
            "grid_auto_rows": null,
            "grid_column": null,
            "grid_gap": null,
            "grid_row": null,
            "grid_template_areas": null,
            "grid_template_columns": null,
            "grid_template_rows": null,
            "height": null,
            "justify_content": null,
            "justify_items": null,
            "left": null,
            "margin": null,
            "max_height": null,
            "max_width": null,
            "min_height": null,
            "min_width": null,
            "object_fit": null,
            "object_position": null,
            "order": null,
            "overflow": null,
            "overflow_x": null,
            "overflow_y": null,
            "padding": null,
            "right": null,
            "top": null,
            "visibility": null,
            "width": null
          }
        },
        "1642c3a243024d6fbdd0aee13e996b78": {
          "model_module": "@jupyter-widgets/controls",
          "model_name": "DescriptionStyleModel",
          "model_module_version": "1.5.0",
          "state": {
            "_model_module": "@jupyter-widgets/controls",
            "_model_module_version": "1.5.0",
            "_model_name": "DescriptionStyleModel",
            "_view_count": null,
            "_view_module": "@jupyter-widgets/base",
            "_view_module_version": "1.2.0",
            "_view_name": "StyleView",
            "description_width": ""
          }
        },
        "9ee9b71b81c94cbcab15ca64214430aa": {
          "model_module": "@jupyter-widgets/controls",
          "model_name": "ButtonModel",
          "model_module_version": "1.5.0",
          "state": {
            "_dom_classes": [],
            "_model_module": "@jupyter-widgets/controls",
            "_model_module_version": "1.5.0",
            "_model_name": "ButtonModel",
            "_view_count": null,
            "_view_module": "@jupyter-widgets/controls",
            "_view_module_version": "1.5.0",
            "_view_name": "ButtonView",
            "button_style": "",
            "description": "Save Key",
            "disabled": false,
            "icon": "",
            "layout": "IPY_MODEL_f28d3eb3e71c43a69f3989a56d4e4e22",
            "style": "IPY_MODEL_df68490cf85343fd842bc26934e6f42e",
            "tooltip": ""
          }
        },
        "f28d3eb3e71c43a69f3989a56d4e4e22": {
          "model_module": "@jupyter-widgets/base",
          "model_name": "LayoutModel",
          "model_module_version": "1.2.0",
          "state": {
            "_model_module": "@jupyter-widgets/base",
            "_model_module_version": "1.2.0",
            "_model_name": "LayoutModel",
            "_view_count": null,
            "_view_module": "@jupyter-widgets/base",
            "_view_module_version": "1.2.0",
            "_view_name": "LayoutView",
            "align_content": null,
            "align_items": null,
            "align_self": null,
            "border": null,
            "bottom": null,
            "display": null,
            "flex": null,
            "flex_flow": null,
            "grid_area": null,
            "grid_auto_columns": null,
            "grid_auto_flow": null,
            "grid_auto_rows": null,
            "grid_column": null,
            "grid_gap": null,
            "grid_row": null,
            "grid_template_areas": null,
            "grid_template_columns": null,
            "grid_template_rows": null,
            "height": null,
            "justify_content": null,
            "justify_items": null,
            "left": null,
            "margin": null,
            "max_height": null,
            "max_width": null,
            "min_height": null,
            "min_width": null,
            "object_fit": null,
            "object_position": null,
            "order": null,
            "overflow": null,
            "overflow_x": null,
            "overflow_y": null,
            "padding": null,
            "right": null,
            "top": null,
            "visibility": null,
            "width": null
          }
        },
        "df68490cf85343fd842bc26934e6f42e": {
          "model_module": "@jupyter-widgets/controls",
          "model_name": "ButtonStyleModel",
          "model_module_version": "1.5.0",
          "state": {
            "_model_module": "@jupyter-widgets/controls",
            "_model_module_version": "1.5.0",
            "_model_name": "ButtonStyleModel",
            "_view_count": null,
            "_view_module": "@jupyter-widgets/base",
            "_view_module_version": "1.2.0",
            "_view_name": "StyleView",
            "button_color": null,
            "font_weight": ""
          }
        },
        "9b63d36ffdd0450f8b3da43bd755af02": {
          "model_module": "@jupyter-widgets/output",
          "model_name": "OutputModel",
          "model_module_version": "1.0.0",
          "state": {
            "_dom_classes": [],
            "_model_module": "@jupyter-widgets/output",
            "_model_module_version": "1.0.0",
            "_model_name": "OutputModel",
            "_view_count": null,
            "_view_module": "@jupyter-widgets/output",
            "_view_module_version": "1.0.0",
            "_view_name": "OutputView",
            "layout": "IPY_MODEL_603183c3a2a847d19aef0d82a28d52c2",
            "msg_id": "",
            "outputs": []
          }
        },
        "603183c3a2a847d19aef0d82a28d52c2": {
          "model_module": "@jupyter-widgets/base",
          "model_name": "LayoutModel",
          "model_module_version": "1.2.0",
          "state": {
            "_model_module": "@jupyter-widgets/base",
            "_model_module_version": "1.2.0",
            "_model_name": "LayoutModel",
            "_view_count": null,
            "_view_module": "@jupyter-widgets/base",
            "_view_module_version": "1.2.0",
            "_view_name": "LayoutView",
            "align_content": null,
            "align_items": null,
            "align_self": null,
            "border": null,
            "bottom": null,
            "display": null,
            "flex": null,
            "flex_flow": null,
            "grid_area": null,
            "grid_auto_columns": null,
            "grid_auto_flow": null,
            "grid_auto_rows": null,
            "grid_column": null,
            "grid_gap": null,
            "grid_row": null,
            "grid_template_areas": null,
            "grid_template_columns": null,
            "grid_template_rows": null,
            "height": null,
            "justify_content": null,
            "justify_items": null,
            "left": null,
            "margin": null,
            "max_height": null,
            "max_width": null,
            "min_height": null,
            "min_width": null,
            "object_fit": null,
            "object_position": null,
            "order": null,
            "overflow": null,
            "overflow_x": null,
            "overflow_y": null,
            "padding": null,
            "right": null,
            "top": null,
            "visibility": null,
            "width": null
          }
        },
        "fc0bc49834164b52a1edf066732685dd": {
          "model_module": "@jupyter-widgets/controls",
          "model_name": "PasswordModel",
          "model_module_version": "1.5.0",
          "state": {
            "_dom_classes": [],
            "_model_module": "@jupyter-widgets/controls",
            "_model_module_version": "1.5.0",
            "_model_name": "PasswordModel",
            "_view_count": null,
            "_view_module": "@jupyter-widgets/controls",
            "_view_module_version": "1.5.0",
            "_view_name": "PasswordView",
            "continuous_update": true,
            "description": "Enter Key:",
            "description_tooltip": null,
            "disabled": false,
            "layout": "IPY_MODEL_01a532f6f0984f30940d63fb0f898a9e",
            "placeholder": "KAGGLE_KEY",
            "style": "IPY_MODEL_a71f9f47cd60412fb1f4523f4a66850b",
            "value": "4e651bc214c7f5b1dd0f3f109c3de75e"
          }
        },
        "01a532f6f0984f30940d63fb0f898a9e": {
          "model_module": "@jupyter-widgets/base",
          "model_name": "LayoutModel",
          "model_module_version": "1.2.0",
          "state": {
            "_model_module": "@jupyter-widgets/base",
            "_model_module_version": "1.2.0",
            "_model_name": "LayoutModel",
            "_view_count": null,
            "_view_module": "@jupyter-widgets/base",
            "_view_module_version": "1.2.0",
            "_view_name": "LayoutView",
            "align_content": null,
            "align_items": null,
            "align_self": null,
            "border": null,
            "bottom": null,
            "display": null,
            "flex": null,
            "flex_flow": null,
            "grid_area": null,
            "grid_auto_columns": null,
            "grid_auto_flow": null,
            "grid_auto_rows": null,
            "grid_column": null,
            "grid_gap": null,
            "grid_row": null,
            "grid_template_areas": null,
            "grid_template_columns": null,
            "grid_template_rows": null,
            "height": null,
            "justify_content": null,
            "justify_items": null,
            "left": null,
            "margin": null,
            "max_height": null,
            "max_width": null,
            "min_height": null,
            "min_width": null,
            "object_fit": null,
            "object_position": null,
            "order": null,
            "overflow": null,
            "overflow_x": null,
            "overflow_y": null,
            "padding": null,
            "right": null,
            "top": null,
            "visibility": null,
            "width": null
          }
        },
        "a71f9f47cd60412fb1f4523f4a66850b": {
          "model_module": "@jupyter-widgets/controls",
          "model_name": "DescriptionStyleModel",
          "model_module_version": "1.5.0",
          "state": {
            "_model_module": "@jupyter-widgets/controls",
            "_model_module_version": "1.5.0",
            "_model_name": "DescriptionStyleModel",
            "_view_count": null,
            "_view_module": "@jupyter-widgets/base",
            "_view_module_version": "1.2.0",
            "_view_name": "StyleView",
            "description_width": ""
          }
        },
        "a40996b86010432d8b65ef40b2ef351f": {
          "model_module": "@jupyter-widgets/controls",
          "model_name": "ButtonModel",
          "model_module_version": "1.5.0",
          "state": {
            "_dom_classes": [],
            "_model_module": "@jupyter-widgets/controls",
            "_model_module_version": "1.5.0",
            "_model_name": "ButtonModel",
            "_view_count": null,
            "_view_module": "@jupyter-widgets/controls",
            "_view_module_version": "1.5.0",
            "_view_name": "ButtonView",
            "button_style": "",
            "description": "Save Key",
            "disabled": false,
            "icon": "",
            "layout": "IPY_MODEL_9b787a9ab4644d0088abcdde9dd211c4",
            "style": "IPY_MODEL_0f0d8de13461402fad56a15eb9cb08ff",
            "tooltip": ""
          }
        },
        "9b787a9ab4644d0088abcdde9dd211c4": {
          "model_module": "@jupyter-widgets/base",
          "model_name": "LayoutModel",
          "model_module_version": "1.2.0",
          "state": {
            "_model_module": "@jupyter-widgets/base",
            "_model_module_version": "1.2.0",
            "_model_name": "LayoutModel",
            "_view_count": null,
            "_view_module": "@jupyter-widgets/base",
            "_view_module_version": "1.2.0",
            "_view_name": "LayoutView",
            "align_content": null,
            "align_items": null,
            "align_self": null,
            "border": null,
            "bottom": null,
            "display": null,
            "flex": null,
            "flex_flow": null,
            "grid_area": null,
            "grid_auto_columns": null,
            "grid_auto_flow": null,
            "grid_auto_rows": null,
            "grid_column": null,
            "grid_gap": null,
            "grid_row": null,
            "grid_template_areas": null,
            "grid_template_columns": null,
            "grid_template_rows": null,
            "height": null,
            "justify_content": null,
            "justify_items": null,
            "left": null,
            "margin": null,
            "max_height": null,
            "max_width": null,
            "min_height": null,
            "min_width": null,
            "object_fit": null,
            "object_position": null,
            "order": null,
            "overflow": null,
            "overflow_x": null,
            "overflow_y": null,
            "padding": null,
            "right": null,
            "top": null,
            "visibility": null,
            "width": null
          }
        },
        "0f0d8de13461402fad56a15eb9cb08ff": {
          "model_module": "@jupyter-widgets/controls",
          "model_name": "ButtonStyleModel",
          "model_module_version": "1.5.0",
          "state": {
            "_model_module": "@jupyter-widgets/controls",
            "_model_module_version": "1.5.0",
            "_model_name": "ButtonStyleModel",
            "_view_count": null,
            "_view_module": "@jupyter-widgets/base",
            "_view_module_version": "1.2.0",
            "_view_name": "StyleView",
            "button_color": null,
            "font_weight": ""
          }
        },
        "aa087f8977274793b19418579119d41d": {
          "model_module": "@jupyter-widgets/output",
          "model_name": "OutputModel",
          "model_module_version": "1.0.0",
          "state": {
            "_dom_classes": [],
            "_model_module": "@jupyter-widgets/output",
            "_model_module_version": "1.0.0",
            "_model_name": "OutputModel",
            "_view_count": null,
            "_view_module": "@jupyter-widgets/output",
            "_view_module_version": "1.0.0",
            "_view_name": "OutputView",
            "layout": "IPY_MODEL_267fa2e7ecf44c60a580c7480e570710",
            "msg_id": "",
            "outputs": []
          }
        },
        "267fa2e7ecf44c60a580c7480e570710": {
          "model_module": "@jupyter-widgets/base",
          "model_name": "LayoutModel",
          "model_module_version": "1.2.0",
          "state": {
            "_model_module": "@jupyter-widgets/base",
            "_model_module_version": "1.2.0",
            "_model_name": "LayoutModel",
            "_view_count": null,
            "_view_module": "@jupyter-widgets/base",
            "_view_module_version": "1.2.0",
            "_view_name": "LayoutView",
            "align_content": null,
            "align_items": null,
            "align_self": null,
            "border": null,
            "bottom": null,
            "display": null,
            "flex": null,
            "flex_flow": null,
            "grid_area": null,
            "grid_auto_columns": null,
            "grid_auto_flow": null,
            "grid_auto_rows": null,
            "grid_column": null,
            "grid_gap": null,
            "grid_row": null,
            "grid_template_areas": null,
            "grid_template_columns": null,
            "grid_template_rows": null,
            "height": null,
            "justify_content": null,
            "justify_items": null,
            "left": null,
            "margin": null,
            "max_height": null,
            "max_width": null,
            "min_height": null,
            "min_width": null,
            "object_fit": null,
            "object_position": null,
            "order": null,
            "overflow": null,
            "overflow_x": null,
            "overflow_y": null,
            "padding": null,
            "right": null,
            "top": null,
            "visibility": null,
            "width": null
          }
        }
      }
    }
  },
  "cells": [
    {
      "cell_type": "markdown",
      "metadata": {
        "id": "view-in-github",
        "colab_type": "text"
      },
      "source": [
        "<a href=\"https://colab.research.google.com/github/PolChip/2course_mash_lear/blob/main/1.ipynb\" target=\"_parent\"><img src=\"https://colab.research.google.com/assets/colab-badge.svg\" alt=\"Open In Colab\"/></a>"
      ]
    },
    {
      "cell_type": "code",
      "execution_count": null,
      "metadata": {
        "colab": {
          "base_uri": "https://localhost:8080/"
        },
        "id": "UhytroIq6f--",
        "outputId": "7652af27-31d9-4ed3-98e2-8538bda9e45a"
      },
      "outputs": [
        {
          "output_type": "stream",
          "name": "stdout",
          "text": [
            "Requirement already satisfied: kaggle in /usr/local/lib/python3.12/dist-packages (1.7.4.5)\n",
            "Requirement already satisfied: bleach in /usr/local/lib/python3.12/dist-packages (from kaggle) (6.2.0)\n",
            "Requirement already satisfied: certifi>=14.05.14 in /usr/local/lib/python3.12/dist-packages (from kaggle) (2025.8.3)\n",
            "Requirement already satisfied: charset-normalizer in /usr/local/lib/python3.12/dist-packages (from kaggle) (3.4.3)\n",
            "Requirement already satisfied: idna in /usr/local/lib/python3.12/dist-packages (from kaggle) (3.10)\n",
            "Requirement already satisfied: protobuf in /usr/local/lib/python3.12/dist-packages (from kaggle) (5.29.5)\n",
            "Requirement already satisfied: python-dateutil>=2.5.3 in /usr/local/lib/python3.12/dist-packages (from kaggle) (2.9.0.post0)\n",
            "Requirement already satisfied: python-slugify in /usr/local/lib/python3.12/dist-packages (from kaggle) (8.0.4)\n",
            "Requirement already satisfied: requests in /usr/local/lib/python3.12/dist-packages (from kaggle) (2.32.4)\n",
            "Requirement already satisfied: setuptools>=21.0.0 in /usr/local/lib/python3.12/dist-packages (from kaggle) (75.2.0)\n",
            "Requirement already satisfied: six>=1.10 in /usr/local/lib/python3.12/dist-packages (from kaggle) (1.17.0)\n",
            "Requirement already satisfied: text-unidecode in /usr/local/lib/python3.12/dist-packages (from kaggle) (1.3)\n",
            "Requirement already satisfied: tqdm in /usr/local/lib/python3.12/dist-packages (from kaggle) (4.67.1)\n",
            "Requirement already satisfied: urllib3>=1.15.1 in /usr/local/lib/python3.12/dist-packages (from kaggle) (2.5.0)\n",
            "Requirement already satisfied: webencodings in /usr/local/lib/python3.12/dist-packages (from kaggle) (0.5.1)\n"
          ]
        }
      ],
      "source": [
        "%pip install kaggle"
      ]
    },
    {
      "cell_type": "code",
      "source": [
        "import ipywidgets as widgets\n",
        "import os\n",
        "\n",
        "def get_and_store_secret(placeholder, output_secret_path):\n",
        "  password_field = widgets.Password(\n",
        "      description=f\"Enter Key:\",\n",
        "      placeholder=placeholder,\n",
        "      disabled=False\n",
        "  )\n",
        "\n",
        "  output = widgets.Output()\n",
        "\n",
        "  def on_button_click(b):\n",
        "    with output:\n",
        "      token = password_field.value\n",
        "      with open(os.path.expanduser(output_secret_path), \"w\") as f:\n",
        "        f.write(token)\n",
        "      password_field.close()\n",
        "      button.close()\n",
        "\n",
        "  button = widgets.Button(description=\"Save Key\")\n",
        "  button.on_click(on_button_click)\n",
        "\n",
        "  display(password_field, button, output)"
      ],
      "metadata": {
        "id": "yvBzRB6m_OjW"
      },
      "execution_count": null,
      "outputs": []
    },
    {
      "cell_type": "code",
      "source": [
        "kaggle_user_path = os.path.expanduser(\"~/.cache/kaggle-user.txt\")\n",
        "get_and_store_secret(\"KAGGLE_USERNAME\", kaggle_user_path)"
      ],
      "metadata": {
        "colab": {
          "base_uri": "https://localhost:8080/",
          "height": 17,
          "referenced_widgets": [
            "1329796f9d624161b4634d469a0cf0c9",
            "ac2f08fc5c0d4173ad2a061b8de6086e",
            "1642c3a243024d6fbdd0aee13e996b78",
            "9ee9b71b81c94cbcab15ca64214430aa",
            "f28d3eb3e71c43a69f3989a56d4e4e22",
            "df68490cf85343fd842bc26934e6f42e",
            "9b63d36ffdd0450f8b3da43bd755af02",
            "603183c3a2a847d19aef0d82a28d52c2"
          ]
        },
        "id": "SDOTvg3e_Usq",
        "outputId": "7f0f8d0d-11b5-4dc0-bd76-e6da42bb1203"
      },
      "execution_count": null,
      "outputs": [
        {
          "output_type": "display_data",
          "data": {
            "text/plain": [
              "Password(description='Enter Key:', placeholder='KAGGLE_USERNAME')"
            ],
            "application/vnd.jupyter.widget-view+json": {
              "version_major": 2,
              "version_minor": 0,
              "model_id": "1329796f9d624161b4634d469a0cf0c9"
            }
          },
          "metadata": {}
        },
        {
          "output_type": "display_data",
          "data": {
            "text/plain": [
              "Button(description='Save Key', style=ButtonStyle())"
            ],
            "application/vnd.jupyter.widget-view+json": {
              "version_major": 2,
              "version_minor": 0,
              "model_id": "9ee9b71b81c94cbcab15ca64214430aa"
            }
          },
          "metadata": {}
        },
        {
          "output_type": "display_data",
          "data": {
            "text/plain": [
              "Output()"
            ],
            "application/vnd.jupyter.widget-view+json": {
              "version_major": 2,
              "version_minor": 0,
              "model_id": "9b63d36ffdd0450f8b3da43bd755af02"
            }
          },
          "metadata": {}
        }
      ]
    },
    {
      "cell_type": "code",
      "source": [
        "kaggle_key_path = os.path.expanduser(\"~/.cache/kaggle.token\")\n",
        "get_and_store_secret(\"KAGGLE_KEY\", kaggle_key_path)"
      ],
      "metadata": {
        "colab": {
          "base_uri": "https://localhost:8080/",
          "height": 17,
          "referenced_widgets": [
            "fc0bc49834164b52a1edf066732685dd",
            "01a532f6f0984f30940d63fb0f898a9e",
            "a71f9f47cd60412fb1f4523f4a66850b",
            "a40996b86010432d8b65ef40b2ef351f",
            "9b787a9ab4644d0088abcdde9dd211c4",
            "0f0d8de13461402fad56a15eb9cb08ff",
            "aa087f8977274793b19418579119d41d",
            "267fa2e7ecf44c60a580c7480e570710"
          ]
        },
        "id": "kSfo3hVn_ebN",
        "outputId": "ca1e0b59-6acf-438c-ff8e-9f44472699ac"
      },
      "execution_count": null,
      "outputs": [
        {
          "output_type": "display_data",
          "data": {
            "text/plain": [
              "Password(description='Enter Key:', placeholder='KAGGLE_KEY')"
            ],
            "application/vnd.jupyter.widget-view+json": {
              "version_major": 2,
              "version_minor": 0,
              "model_id": "fc0bc49834164b52a1edf066732685dd"
            }
          },
          "metadata": {}
        },
        {
          "output_type": "display_data",
          "data": {
            "text/plain": [
              "Button(description='Save Key', style=ButtonStyle())"
            ],
            "application/vnd.jupyter.widget-view+json": {
              "version_major": 2,
              "version_minor": 0,
              "model_id": "a40996b86010432d8b65ef40b2ef351f"
            }
          },
          "metadata": {}
        },
        {
          "output_type": "display_data",
          "data": {
            "text/plain": [
              "Output()"
            ],
            "application/vnd.jupyter.widget-view+json": {
              "version_major": 2,
              "version_minor": 0,
              "model_id": "aa087f8977274793b19418579119d41d"
            }
          },
          "metadata": {}
        }
      ]
    },
    {
      "cell_type": "code",
      "source": [
        "with open(kaggle_user_path) as f:\n",
        "    os.environ[\"KAGGLE_USERNAME\"] = f.read().strip()\n",
        "\n",
        "with open(kaggle_key_path) as f:\n",
        "    os.environ[\"KAGGLE_KEY\"] = f.read().strip()"
      ],
      "metadata": {
        "id": "3qB5DpCC_weq"
      },
      "execution_count": null,
      "outputs": []
    },
    {
      "cell_type": "code",
      "source": [
        "import pandas as pd          # Основная библиотека для работы с табличными данными\n",
        "from io import StringIO      # Для работы со строками как с файлами\n",
        "import os                    # Для работы с операционной системой (файлы, пути)\n",
        "\n",
        "# Получаем список файлов\n",
        "dataset_files = !{\"kaggle datasets files greeshmagirish/road-accidents-in-india-20142017 --csv\"}\n",
        "dataset_files = \"\\n\".join(dataset_files) # Объединяем список строк в одну строку (с переносами между ними)\n",
        "files_df = pd.read_csv(StringIO(dataset_files)) # StringIO(dataset_files) создает файлоподобный объект из строки\n",
        "\n",
        "filename = files_df.iloc[0]['name'] # files_df.iloc[0] берет первую строку DataFrame, получает значение из колонки 'name'\n",
        "print(f\"Скачиваем файл: {filename}\")\n",
        "\n",
        "# Скачиваем файл ((-f + filename) указывает какой именно файл скачать)\n",
        "!{\"kaggle datasets download greeshmagirish/road-accidents-in-india-20142017 -f \" + filename}\n",
        "\n",
        "# Проверяем скачался ли файл\n",
        "downloaded_files = os.listdir('.') # Возвращаем список всех файлов и папок в текущей директории('.' означает \"текущая директория\")\n",
        "csv_files = [f for f in downloaded_files if f.endswith('.csv')]\n",
        "\n",
        "if csv_files:\n",
        "    df = pd.read_csv(csv_files[0]) # Загрузка данных в DataFrame\n",
        "    print(f\"Успешно загружен: {csv_files[0]}\")\n",
        "    print(f\"Размер данных: {df.shape}\") # (строки, колонки)\n",
        "    print(\"\\nДанных:\")\n",
        "    print(df.head(200)) # Показывает первые 200 строк\n",
        "    print(\"\\nИнформация о данных:\")\n",
        "    print(df.info()) # Кол-во не нулевых строк\n",
        "else:\n",
        "    print(\"CSV файлы не найдены. Доступные файлы:\")\n",
        "    print(downloaded_files)"
      ],
      "metadata": {
        "colab": {
          "base_uri": "https://localhost:8080/"
        },
        "id": "jMUV3DhFFXaH",
        "outputId": "1e944658-097a-4b4b-a0cb-62ad1d1b8cd2"
      },
      "execution_count": null,
      "outputs": [
        {
          "output_type": "stream",
          "name": "stdout",
          "text": [
            "Скачиваем файл: Acc_Classified_according_to_Type_of_Weather_Condition_2014_and_2016.csv\n",
            "Dataset URL: https://www.kaggle.com/datasets/greeshmagirish/road-accidents-in-india-20142017\n",
            "License(s): other\n",
            "Acc_Classified_according_to_Type_of_Weather_Condition_2014_and_2016.csv: Skipping, found more recently modified local copy (use --force to force download)\n",
            "Успешно загружен: accident.csv\n",
            "Размер данных: (200, 6)\n",
            "\n",
            "Данных:\n",
            "     Age  Gender  Speed_of_Impact Helmet_Used Seatbelt_Used  Survived\n",
            "0     56  Female             27.0          No            No         1\n",
            "1     69  Female             46.0          No           Yes         1\n",
            "2     46    Male             46.0         Yes           Yes         0\n",
            "3     32    Male            117.0          No           Yes         0\n",
            "4     60  Female             40.0         Yes           Yes         0\n",
            "..   ...     ...              ...         ...           ...       ...\n",
            "195   69  Female            111.0          No           Yes         1\n",
            "196   30  Female             51.0          No           Yes         1\n",
            "197   58    Male            110.0          No           Yes         1\n",
            "198   20    Male            103.0          No           Yes         1\n",
            "199   56  Female             43.0          No           Yes         1\n",
            "\n",
            "[200 rows x 6 columns]\n",
            "\n",
            "Информация о данных:\n",
            "<class 'pandas.core.frame.DataFrame'>\n",
            "RangeIndex: 200 entries, 0 to 199\n",
            "Data columns (total 6 columns):\n",
            " #   Column           Non-Null Count  Dtype  \n",
            "---  ------           --------------  -----  \n",
            " 0   Age              200 non-null    int64  \n",
            " 1   Gender           199 non-null    object \n",
            " 2   Speed_of_Impact  197 non-null    float64\n",
            " 3   Helmet_Used      200 non-null    object \n",
            " 4   Seatbelt_Used    200 non-null    object \n",
            " 5   Survived         200 non-null    int64  \n",
            "dtypes: float64(1), int64(2), object(3)\n",
            "memory usage: 9.5+ KB\n",
            "None\n"
          ]
        }
      ]
    }
  ]
}